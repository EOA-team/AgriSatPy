{
 "cells": [
  {
   "cell_type": "markdown",
   "metadata": {},
   "source": [
    "# 'AgriSatPy' workflow example\n",
    "\n",
    "This tutorial gives an overview of the workflow of the 'AgriSatPy' package.\n",
    "\n",
    "Before you start, make sure to have the following: \n",
    "1. Raw data downloaded from ESA/copernicus (.SAFE folders). Each year of S2 data must be in a separate folder.\n",
    "2. Metadata file for each year of .SAFE data.\n",
    "3. Local target directory for storing the resampled & stacked data\n"
   ]
  },
  {
   "cell_type": "markdown",
   "metadata": {},
   "source": [
    "## Download\n",
    "Download of Sentinel satellite products can be performed by the functions found in the \"downloader\" folder. The download internally is based on the 'sentinelsat' package (https://sentinelsat.readthedocs.io). You need to register (for free) at ESA/Copernicus. \n",
    "\n",
    "Using this method, only up-to-date Sentinel data can be obtained. Data which is older than 18 months (for Sentinel-2 L2A products) has to be retrieved from the Long Term Archive (LTA). THis is best done by using one of the Data and Information Acess Services (DIAS, https://www.copernicus.eu/en/access-data/dias). \n",
    "\n",
    "~src/agrisatpy/downloader/sentinels.py"
   ]
  },
  {
   "cell_type": "code",
   "execution_count": 1,
   "metadata": {},
   "outputs": [],
   "source": [
    "# hier weiss ich noch nicht genau, wie die einzelnen Funktionen aus der Package aufgerufen werden.\n",
    "\n",
    "# query_from_copernicus()\n",
    "# download_data()"
   ]
  },
  {
   "cell_type": "markdown",
   "metadata": {},
   "source": [
    "## metadata creation\n",
    "\n",
    "~src/agrisatpy/metadata/sentinel2/parsing.py"
   ]
  },
  {
   "cell_type": "markdown",
   "metadata": {},
   "source": [
    "## Resampling\n",
    "\n",
    "Resample all contents of a Sentinel-2 (S2) folder (.SAFE if obtained from ESA, other if obtained from a DIAS like 'Mundi') and write as a bandstack into a geoTiff file. \n",
    "\n",
    "Option to resample the Scene Classification Layer (SCL) layer only. \n",
    "\n",
    "~src/agrisatpy/spatial_resampling/sentinel2.py"
   ]
  },
  {
   "cell_type": "code",
   "execution_count": 2,
   "metadata": {},
   "outputs": [],
   "source": [
    "# resample a folder containing S2 rawdata & write to bandstack (.tiff)\n",
    "# option to use masking can be set to True, then a shapefile is expected\n",
    "# resample_and_stack_S2()\n",
    "\n",
    "# resample the Scene Classification Layer (SCL) only\n",
    "# scl_10m_resampling()"
   ]
  },
  {
   "cell_type": "markdown",
   "metadata": {},
   "source": [
    "## Pixel values extraction\n",
    "\n",
    "Extract pixel values either from:\n",
    "1. single band files (e.g. from .SAFE folder).\n",
    "2. bandstacked .tiffs written in the previous step. \n",
    "\n",
    "~src/agrisatpy/processing/sentinel2.py"
   ]
  },
  {
   "cell_type": "code",
   "execution_count": 4,
   "metadata": {},
   "outputs": [],
   "source": [
    "# single band file\n",
    "# S2singlebands2table()\n",
    "\n",
    "# from bandstack\n",
    "# S2bandstack2table()"
   ]
  },
  {
   "cell_type": "markdown",
   "metadata": {},
   "source": [
    "## Convert model output to raster\n",
    "If you've run your model\n",
    "\n",
    "**TODO**: Provide an example"
   ]
  }
 ],
 "metadata": {
  "kernelspec": {
   "display_name": "Python 3 (ipykernel)",
   "language": "python",
   "name": "python3"
  },
  "language_info": {
   "codemirror_mode": {
    "name": "ipython",
    "version": 3
   },
   "file_extension": ".py",
   "mimetype": "text/x-python",
   "name": "python",
   "nbconvert_exporter": "python",
   "pygments_lexer": "ipython3",
   "version": "3.9.10"
  }
 },
 "nbformat": 4,
 "nbformat_minor": 4
}
